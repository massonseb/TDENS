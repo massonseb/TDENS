{
 "cells": [
  {
   "cell_type": "code",
   "execution_count": null,
   "id": "5aa6b454",
   "metadata": {},
   "outputs": [],
   "source": [
    "# import libraries\n",
    "import numpy as np\n",
    "import xarray as xr\n",
    "import matplotlib.pyplot as plt\n",
    "import cartopy.crs as ccrs     # only for plots with projections and continents maps"
   ]
  },
  {
   "cell_type": "code",
   "execution_count": null,
   "id": "bddcfa94",
   "metadata": {},
   "outputs": [],
   "source": [
    "data = xr.open_dataset('CERES_EBAF-Surface_Ed2.8.nc')\n",
    "data"
   ]
  },
  {
   "cell_type": "markdown",
   "id": "8e05a440",
   "metadata": {},
   "source": [
    "# Short Wave"
   ]
  },
  {
   "cell_type": "markdown",
   "id": "94d63b46",
   "metadata": {},
   "source": [
    "## SW Down"
   ]
  },
  {
   "cell_type": "code",
   "execution_count": null,
   "id": "0b6f6f37",
   "metadata": {},
   "outputs": [],
   "source": [
    "fig, axes = plt.subplots(1,2, figsize=(15,5), constrained_layout=True)\n",
    "data.sfc_sw_down_clr.plot(ax=axes[0], vmin=0, vmax=300, cmap='gnuplot2')\n",
    "axes[0].set_title('SW DOWN CLR sky')\n",
    "data.sfc_sw_down_all.plot(ax=axes[1], vmin=0, vmax=300, cmap='gnuplot2')\n",
    "axes[1].set_title('SW DOWN ALL sky')"
   ]
  },
  {
   "cell_type": "markdown",
   "id": "65c4505a",
   "metadata": {},
   "source": [
    "## SW Up"
   ]
  },
  {
   "cell_type": "code",
   "execution_count": null,
   "id": "88121df0",
   "metadata": {},
   "outputs": [],
   "source": [
    "fig, axes = plt.subplots(1,2, figsize=(15,5), constrained_layout=True)\n",
    "data.sfc_sw_up_clr.plot(ax=axes[0], vmin=0, vmax=150, cmap='gnuplot2')\n",
    "axes[0].set_title('SW UP CLR sky')\n",
    "data.sfc_sw_up_all.plot(ax=axes[1], vmin=0, vmax=150, cmap='gnuplot2')\n",
    "axes[1].set_title('SW UP ALL sky')"
   ]
  },
  {
   "cell_type": "markdown",
   "id": "c43f8204",
   "metadata": {},
   "source": [
    "## SW Net"
   ]
  },
  {
   "cell_type": "code",
   "execution_count": null,
   "id": "163e7366",
   "metadata": {},
   "outputs": [],
   "source": [
    "fig, axes = plt.subplots(1,2, figsize=(15,5), constrained_layout=True)\n",
    "net = data.sfc_sw_down_clr - data.sfc_sw_up_clr\n",
    "net.plot(ax=axes[0], vmin=0, vmax=300, cmap='gnuplot2')\n",
    "axes[0].set_title('SW DOWN-UP CLR sky')\n",
    "net = data.sfc_sw_down_all - data.sfc_sw_up_all\n",
    "net.plot(ax=axes[1], vmin=0, vmax=300, cmap='gnuplot2')\n",
    "axes[1].set_title('SW DOWN-UP ALL sky')"
   ]
  },
  {
   "cell_type": "markdown",
   "id": "d767358b",
   "metadata": {},
   "source": [
    "# Long Wave"
   ]
  },
  {
   "cell_type": "markdown",
   "id": "ff6a47a9",
   "metadata": {},
   "source": [
    "## LW Down"
   ]
  },
  {
   "cell_type": "code",
   "execution_count": null,
   "id": "268e9828",
   "metadata": {},
   "outputs": [],
   "source": [
    "fig, axes = plt.subplots(1,2, figsize=(15,5), constrained_layout=True)\n",
    "data.sfc_lw_down_clr.plot(ax=axes[0], vmin=0, vmax=500, cmap='gnuplot2')\n",
    "axes[0].set_title('LW DOWN CLR sky')\n",
    "data.sfc_lw_down_all.plot(ax=axes[1], vmin=0, vmax=500, cmap='gnuplot2')\n",
    "axes[1].set_title('LW DOWN ALL sky')"
   ]
  },
  {
   "cell_type": "markdown",
   "id": "9f890d56",
   "metadata": {},
   "source": [
    "## LW Up"
   ]
  },
  {
   "cell_type": "code",
   "execution_count": null,
   "id": "51deb6e0",
   "metadata": {},
   "outputs": [],
   "source": [
    "fig, axes = plt.subplots(1,2, figsize=(15,5), constrained_layout=True)\n",
    "data.sfc_lw_up_clr.plot(ax=axes[0], vmin=0, vmax=500, cmap='gnuplot2')\n",
    "axes[0].set_title('LW UP CLR sky')\n",
    "data.sfc_lw_up_all.plot(ax=axes[1], vmin=0, vmax=500, cmap='gnuplot2')\n",
    "axes[1].set_title('LW UP ALL sky')"
   ]
  },
  {
   "cell_type": "markdown",
   "id": "3a584e10",
   "metadata": {},
   "source": [
    "## LW Net"
   ]
  },
  {
   "cell_type": "code",
   "execution_count": null,
   "id": "c5cfec7e",
   "metadata": {},
   "outputs": [],
   "source": [
    "fig, axes = plt.subplots(1,2, figsize=(15,5), constrained_layout=True)\n",
    "net = data.sfc_lw_down_clr - data.sfc_lw_up_clr\n",
    "net.plot(ax=axes[0], vmin=-100, vmax=0, cmap='gnuplot2_r')\n",
    "axes[0].set_title('LW DOWN-UP CLR sky')\n",
    "net = data.sfc_lw_down_all - data.sfc_lw_up_all\n",
    "net.plot(ax=axes[1], vmin=-100, vmax=0, cmap='gnuplot2_r')\n",
    "axes[1].set_title('LW DOWN-UP ALL sky')"
   ]
  },
  {
   "cell_type": "markdown",
   "id": "d18b7e26",
   "metadata": {},
   "source": [
    "# Short+Long Wave"
   ]
  },
  {
   "cell_type": "markdown",
   "id": "fc52684d",
   "metadata": {},
   "source": [
    "## SW+LW Net"
   ]
  },
  {
   "cell_type": "code",
   "execution_count": null,
   "id": "9113c0bb",
   "metadata": {},
   "outputs": [],
   "source": [
    "fig, axes = plt.subplots(1,2, figsize=(15,5), constrained_layout=True)\n",
    "net = data.sfc_sw_down_clr - data.sfc_sw_up_clr + data.sfc_lw_down_clr - data.sfc_lw_up_clr\n",
    "net.plot(ax=axes[0], vmin=0, vmax=230, cmap='gnuplot2')\n",
    "axes[0].set_title('SW+LW DOWN-UP CLR sky')\n",
    "net = data.sfc_sw_down_all - data.sfc_sw_up_all + data.sfc_lw_down_all - data.sfc_lw_up_all\n",
    "net.plot(ax=axes[1], vmin=0, vmax=230, cmap='gnuplot2')\n",
    "axes[1].set_title('SW+LW DOWN-UP ALL sky')"
   ]
  }
 ],
 "metadata": {
  "kernelspec": {
   "display_name": "Python 3 (ipykernel)",
   "language": "python",
   "name": "python3"
  },
  "language_info": {
   "codemirror_mode": {
    "name": "ipython",
    "version": 3
   },
   "file_extension": ".py",
   "mimetype": "text/x-python",
   "name": "python",
   "nbconvert_exporter": "python",
   "pygments_lexer": "ipython3",
   "version": "3.10.9"
  }
 },
 "nbformat": 4,
 "nbformat_minor": 5
}
