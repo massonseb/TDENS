{
 "cells": [
  {
   "cell_type": "markdown",
   "metadata": {},
   "source": [
    "# 0. Import needed Libraries"
   ]
  },
  {
   "cell_type": "code",
   "execution_count": null,
   "metadata": {},
   "outputs": [],
   "source": [
    "# the 3 main libraries\n",
    "import numpy as np\n",
    "import xarray as xr\n",
    "import matplotlib.pyplot as plt\n",
    "from eofs.xarray import Eof as eof\n",
    "# librairies to do nicer plots...\n",
    "from matplotlib.patches import Rectangle    # only to draw a rectangle"
   ]
  },
  {
   "cell_type": "markdown",
   "metadata": {},
   "source": [
    "# 1. SST:"
   ]
  },
  {
   "cell_type": "code",
   "execution_count": null,
   "metadata": {},
   "outputs": [],
   "source": [
    "data = xr.open_dataset('sst.mnmean.nc')\n",
    "data_mask = xr.open_dataset('lsmask.nc')\n",
    "mask = data_mask.mask                          # get the DataArray from the Dataset\n",
    "mask = mask.squeeze()                          # get rid of the time dimension in the variable mask"
   ]
  },
  {
   "cell_type": "code",
   "execution_count": null,
   "metadata": {},
   "outputs": [],
   "source": [
    "weights = np.cos( np.deg2rad(mask.lat) )\n",
    "weights = mask*weights"
   ]
  },
  {
   "cell_type": "markdown",
   "metadata": {},
   "source": [
    "### Detrend SST"
   ]
  },
  {
   "cell_type": "code",
   "execution_count": null,
   "metadata": {},
   "outputs": [],
   "source": [
    "linfit = data.sst.polyfit('time', 1)\n",
    "trend = xr.polyval(coord=data.time, coeffs=linfit.polyfit_coefficients)   # SST trend\n",
    "sst_detrend = data.sst - trend.values + data.sst.mean(dim='time')         # detrended SST"
   ]
  },
  {
   "cell_type": "markdown",
   "metadata": {},
   "source": [
    "### Detrended interannual anomaly"
   ]
  },
  {
   "cell_type": "code",
   "execution_count": null,
   "metadata": {},
   "outputs": [],
   "source": [
    "sstbymth = sst_detrend.groupby(\"time.month\")\n",
    "mthclim = sstbymth.mean(\"time\")       # detrended climatological months (seasonal cycle)\n",
    "sstanom = sstbymth - mthclim          # detrended interannual annomaly\n",
    "sstanom = sstanom.rename('sstanom')   # change variable name"
   ]
  },
  {
   "cell_type": "markdown",
   "metadata": {},
   "source": [
    "### Compute nino3.4 (5S-5N and 170-120W) index"
   ]
  },
  {
   "cell_type": "code",
   "execution_count": null,
   "metadata": {},
   "outputs": [],
   "source": [
    "weights_nino34 = weights.sel(lon=slice(360-169.5,360-120.5), lat=slice(4.5,-4.5))\n",
    "nino34_index = sstanom.weighted(weights_nino34).mean(dim=('lon','lat'))\n",
    "nino34_index = nino34_index.rename('nino34')   # change variable name\n",
    "nino34_index.plot()"
   ]
  },
  {
   "cell_type": "markdown",
   "metadata": {},
   "source": [
    "### Create an [Eof](https://ajdawson.github.io/eofs/latest/api/eofs.xarray.html#eofs.xarray.Eof) object"
   ]
  },
  {
   "cell_type": "code",
   "execution_count": null,
   "metadata": {},
   "outputs": [],
   "source": [
    "solver = eof(sstanom, weights=weights)"
   ]
  },
  {
   "cell_type": "markdown",
   "metadata": {},
   "source": [
    "### Explained variance by the different EOFs/PCs couple"
   ]
  },
  {
   "cell_type": "code",
   "execution_count": null,
   "metadata": {},
   "outputs": [],
   "source": [
    "solver.varianceFraction(neigs=10).plot.step(where='mid')"
   ]
  },
  {
   "cell_type": "markdown",
   "metadata": {},
   "source": [
    "###  Plot the first 2 EOFs, PCs and Variance Fraction:  "
   ]
  },
  {
   "cell_type": "code",
   "execution_count": null,
   "metadata": {},
   "outputs": [],
   "source": [
    "# eof = linear_regression_coef(PC,sstanom) = Cov(PC,sstanom)/Var(PC)\n",
    "# pcscaling=1 (default) --> Var(PC) = 1 --> eof = Cov(PC,sstanom)\n",
    "eofs = solver.eofsAsCovariance(neofs=2, pcscaling=1)      # beware of syntaxe: A C in eofsAsCovariance\n",
    "pcs  = solver.pcs(npcs=2, pcscaling=1)\n",
    "varfrac = solver.varianceFraction(neigs=2)                # beware of syntaxe: F in varianceFraction\n",
    "\n",
    "# create a 4 pannels figure\n",
    "fig, axes = plt.subplots(2,2,figsize=(10, 5),constrained_layout=True)\n",
    "# plot EOF1 and PC1\n",
    "eofs.sel(mode=0).plot(ax=axes[0,0], cbar_kwargs={'label': '°C for 1 std of PC'})\n",
    "axes[0,0].set_title('EOF 1: '+str(int(varfrac.values[0]*100))+'%') \n",
    "pcs.sel(mode=0).plot(ax=axes[1,0])\n",
    "axes[1,0].set_title('PC 1')\n",
    "# plot EOF2 and PC2\n",
    "eofs.sel(mode=1).plot(ax=axes[0,1], cbar_kwargs={'label': '°C for 1 std of PC'})\n",
    "axes[0,1].set_title('EOF 2: '+str(int(varfrac.values[1]*100))+'%')\n",
    "pcs.sel(mode=1).plot(ax=axes[1,1])\n",
    "axes[1,1].set_title('PC 2')"
   ]
  },
  {
   "cell_type": "markdown",
   "metadata": {},
   "source": [
    "### correlation of the first 2 PC with Nino3.4"
   ]
  },
  {
   "cell_type": "code",
   "execution_count": null,
   "metadata": {},
   "outputs": [],
   "source": [
    "pcs  = solver.pcs(npcs=2, pcscaling=1)\n",
    "xr.corr(pcs, nino34_index, dim='time').data"
   ]
  },
  {
   "cell_type": "markdown",
   "metadata": {},
   "source": [
    "# 2. MSL:"
   ]
  },
  {
   "cell_type": "code",
   "execution_count": null,
   "metadata": {},
   "outputs": [],
   "source": [
    "data_msl = xr.open_dataset('msl_era5.nc')\n",
    "data_msl"
   ]
  },
  {
   "cell_type": "code",
   "execution_count": null,
   "metadata": {},
   "outputs": [],
   "source": [
    "dtarr_msl = data_msl.msl"
   ]
  },
  {
   "cell_type": "code",
   "execution_count": null,
   "metadata": {},
   "outputs": [],
   "source": [
    "dtarr_msl.mean(dim='time').plot()"
   ]
  },
  {
   "cell_type": "code",
   "execution_count": null,
   "metadata": {},
   "outputs": [],
   "source": [
    "mask_msl = dtarr_msl.isel(time=0)                              # trick to quickly create a xarray \n",
    "mask_msl.data = np.full(np.shape(dtarr_msl.isel(time=0)), 1)   # fill the data with only 1\n",
    "mask_msl = mask_msl.squeeze()                                  # remove dimension equal to 1"
   ]
  },
  {
   "cell_type": "code",
   "execution_count": null,
   "metadata": {},
   "outputs": [],
   "source": [
    "weights_msl = np.cos(np.deg2rad(dtarr_msl.lat))\n",
    "weights_msl = mask_msl*weights_msl * np.full(np.shape(dtarr_msl.isel(time=0)), 1)\n",
    "weights_msl.plot()"
   ]
  },
  {
   "cell_type": "markdown",
   "metadata": {},
   "source": [
    "### Detrend MSL"
   ]
  },
  {
   "cell_type": "code",
   "execution_count": null,
   "metadata": {},
   "outputs": [],
   "source": [
    "linfit = dtarr_msl.polyfit('time', 1)\n",
    "trend = xr.polyval(coord=dtarr_msl.time, coeffs=linfit.polyfit_coefficients)   # MSL trend\n",
    "msl_detrend = dtarr_msl - trend.values + dtarr_msl.mean(dim='time')            # detrended MSL"
   ]
  },
  {
   "cell_type": "code",
   "execution_count": null,
   "metadata": {},
   "outputs": [],
   "source": [
    "fig, axes = plt.subplots(1,2, figsize=(6,3), constrained_layout=True)\n",
    "a = dtarr_msl.groupby('time.year').mean(dim='time')      # yearly mean\n",
    "a.weighted(weights_msl).mean(dim=('lon','lat')).plot(ax=axes[0], label=\"org\")\n",
    "a = trend.groupby('time.year').mean(dim='time')         # yearly mean\n",
    "a.weighted(weights_msl).mean(dim=('lon','lat')).plot(ax=axes[0], label=\"trend\")\n",
    "axes[0].legend()\n",
    "axes[0].set_title('With trend')\n",
    "#\n",
    "a = msl_detrend.groupby('time.year').mean(dim='time')   # yearly mean\n",
    "a.weighted(weights_msl).mean(dim=('lon','lat')).plot(ax=axes[1], label=\"detrend\")\n",
    "axes[1].legend()\n",
    "axes[1].set_title('Without trend')"
   ]
  },
  {
   "cell_type": "markdown",
   "metadata": {},
   "source": [
    "### Detrended interannual anomaly"
   ]
  },
  {
   "cell_type": "code",
   "execution_count": null,
   "metadata": {},
   "outputs": [],
   "source": [
    "mslbymth = msl_detrend.groupby(\"time.month\")\n",
    "mthclim = mslbymth.mean(\"time\")       # detrended climatological months (seasonal cycle)\n",
    "mslanom = mslbymth - mthclim          # detrended interannual annomaly\n",
    "mslanom = mslanom.rename('mslanom')   # change variable name"
   ]
  },
  {
   "cell_type": "code",
   "execution_count": null,
   "metadata": {},
   "outputs": [],
   "source": [
    "a = dtarr_msl.weighted(weights_msl).mean(dim=('lon','lat'))\n",
    "clim = a.groupby(\"time.month\").mean(\"time\")   # climatological months (seasonal cycle)\n",
    "anom = a.groupby(\"time.month\") - clim         # interannual annomaly\n",
    "anom.plot(label=\"org\")\n",
    "#\n",
    "mslanom.weighted(weights_msl).mean(dim=('lon','lat')).plot(label=\"detrended\")\n",
    "plt.legend()"
   ]
  },
  {
   "cell_type": "markdown",
   "metadata": {},
   "source": [
    "### Interannual standard deviation"
   ]
  },
  {
   "cell_type": "code",
   "execution_count": null,
   "metadata": {},
   "outputs": [],
   "source": [
    "fig, axes = plt.subplots(1,2, figsize=(10,5), constrained_layout=True)\n",
    "msl_detrend.std(dim='time').where(mask_msl == 1.).plot(ax=axes[0],vmin=0,vmax=1000,cmap='YlGnBu')\n",
    "axes[0].set_title('MSL detrend STD')\n",
    "mslanom.std(dim='time').where(mask_msl == 1.).plot(ax=axes[1],vmin=0,vmax=1000,cmap='YlGnBu')\n",
    "axes[1].set_title('MSL detrend + anom STD')\n",
    "# overplot nino3.4 rectangle (170W-120W, 5S-5N)\n",
    "ax = plt.gca()                                                              # Get the current reference\n",
    "rect = Rectangle((360-170,-5),50,10,linewidth=1,edgecolor='r',fill=False)   # Create a Rectangle patch\n",
    "ax.add_patch(rect)                                                          # Add the patch to the Axes"
   ]
  },
  {
   "cell_type": "markdown",
   "metadata": {},
   "source": [
    "### MSL anomalies regressed onto Nino3.4 SST"
   ]
  },
  {
   "cell_type": "code",
   "execution_count": null,
   "metadata": {},
   "outputs": [],
   "source": [
    "dmin = np.max([mslanom.time.min().data, nino34_index.time.min().data])\n",
    "dmax = np.min([mslanom.time.max().data, nino34_index.time.max().data])\n",
    "mslanom2 = mslanom.sel(time=slice(dmin,dmax))\n",
    "nino34_2 = nino34_index.sel(time=slice(dmin,dmax))\n",
    "timesave = mslanom2.time\n",
    "mslanom2.coords[\"time\"] = ((\"time\"), nino34_2.data)  # redefine 'time' coordinates with nino34 time series\n",
    "linfit = mslanom2.polyfit('time', 1)                     # compute the regression with this new \"time\" \n",
    "mslanom2.coords[\"time\"] = ((\"time\"), timesave.data)     # put back original time\n",
    "\n",
    "mslreg = linfit.polyfit_coefficients.isel(degree=0)\n",
    "mslcor = xr.corr(mslanom2, nino34_2, dim='time')                      \n",
    "\n",
    "#  create a 2 pannels figure\n",
    "fig, axes = plt.subplots(1,2,figsize=(14, 4))\n",
    "mslreg.where(mask_msl == 1.).plot(ax=axes[0])                                # plot the regression coefficient\n",
    "rect = Rectangle((360-170,-5),50,10,linewidth=1,edgecolor='w',fill=False)   # nino3.4 rectangle (170W-120W, 5S-5N)\n",
    "axes[0].add_patch(rect)                                                     # overlay \n",
    "axes[0].set_title('Regression coefficient')\n",
    "mslcor.where(mask_msl == 1.).plot(ax=axes[1])                                # plot the correlation\n",
    "rect = Rectangle((360-170,-5),50,10,linewidth=1,edgecolor='w',fill=False)   # nino3.4 rectangle (170W-120W, 5S-5N)\n",
    "axes[1].add_patch(rect)                                                     # overlay \n",
    "axes[1].set_title('Correlation')\n",
    "axes[1].set_xlabel('lon')\n",
    "axes[1].set_ylabel('lat')"
   ]
  },
  {
   "cell_type": "markdown",
   "metadata": {},
   "source": [
    "### Create an [Eof](https://ajdawson.github.io/eofs/latest/api/eofs.xarray.html#eofs.xarray.Eof) object"
   ]
  },
  {
   "cell_type": "code",
   "execution_count": null,
   "metadata": {},
   "outputs": [],
   "source": [
    "#solver = eof(mslanom, weights=weights_msl)\n",
    "solver = eof(mslanom.sel(lat=slice(-20., 20.)), weights=weights_msl.sel(lat=slice(-20., 20.)))"
   ]
  },
  {
   "cell_type": "markdown",
   "metadata": {},
   "source": [
    "### Explained variance by the different EOFs/PCs couple"
   ]
  },
  {
   "cell_type": "code",
   "execution_count": null,
   "metadata": {},
   "outputs": [],
   "source": [
    "solver.varianceFraction(neigs=10).plot.step(where='mid')"
   ]
  },
  {
   "cell_type": "markdown",
   "metadata": {},
   "source": [
    "###  Plot the first 2 EOFs, PCs and Variance Fraction:  "
   ]
  },
  {
   "cell_type": "code",
   "execution_count": null,
   "metadata": {},
   "outputs": [],
   "source": [
    "# eof = linear_regression_coef(PC,sstanom) = Cov(PC,sstanom)/Var(PC)\n",
    "# pcscaling=1 (default) --> Var(PC) = 1 --> eof = Cov(PC,sstanom)\n",
    "eofs = solver.eofsAsCovariance(neofs=2, pcscaling=1)      # beware of syntaxe: A C in eofsAsCovariance\n",
    "pcs  = solver.pcs(npcs=2, pcscaling=1)\n",
    "varfrac = solver.varianceFraction(neigs=2)                # beware of syntaxe: F in varianceFraction\n",
    "\n",
    "# create a 4 pannels figure\n",
    "fig, axes = plt.subplots(2,2,figsize=(10, 5),constrained_layout=True)\n",
    "# plot EOF1 and PC1\n",
    "eofs.sel(mode=0).plot(ax=axes[0,0], cbar_kwargs={'label': '°C for 1 std of PC'})\n",
    "axes[0,0].set_title('EOF 1: '+str(int(varfrac.values[0]*100))+'%') \n",
    "pcs.sel(mode=0).plot(ax=axes[1,0])\n",
    "axes[1,0].set_title('PC 1')\n",
    "# plot EOF2 and PC2\n",
    "eofs.sel(mode=1).plot(ax=axes[0,1], cbar_kwargs={'label': '°C for 1 std of PC'})\n",
    "axes[0,1].set_title('EOF 2: '+str(int(varfrac.values[1]*100))+'%')\n",
    "pcs.sel(mode=1).plot(ax=axes[1,1])\n",
    "axes[1,1].set_title('PC 2')"
   ]
  },
  {
   "cell_type": "markdown",
   "metadata": {},
   "source": [
    "### correlation of the first 2 PC with Nino3.4"
   ]
  },
  {
   "cell_type": "code",
   "execution_count": null,
   "metadata": {},
   "outputs": [],
   "source": [
    "pcs  = solver.pcs(npcs=2, pcscaling=1)\n",
    "xr.corr(pcs, nino34_index, dim='time').data"
   ]
  }
 ],
 "metadata": {
  "kernelspec": {
   "display_name": "Python 3 (ipykernel)",
   "language": "python",
   "name": "python3"
  },
  "language_info": {
   "codemirror_mode": {
    "name": "ipython",
    "version": 3
   },
   "file_extension": ".py",
   "mimetype": "text/x-python",
   "name": "python",
   "nbconvert_exporter": "python",
   "pygments_lexer": "ipython3",
   "version": "3.11.11"
  }
 },
 "nbformat": 4,
 "nbformat_minor": 4
}
