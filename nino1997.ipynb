{
 "cells": [
  {
   "cell_type": "code",
   "execution_count": null,
   "id": "fd46f2d9",
   "metadata": {},
   "outputs": [],
   "source": [
    "import numpy as np\n",
    "import xarray as xr\n",
    "import matplotlib.pyplot as plt\n",
    "import hvplot.xarray           # only for \"fancy\" plots"
   ]
  },
  {
   "cell_type": "markdown",
   "id": "d43a52dd",
   "metadata": {},
   "source": [
    "## Load data"
   ]
  },
  {
   "cell_type": "markdown",
   "id": "a88d13a5",
   "metadata": {},
   "source": [
    "### SST anomaly"
   ]
  },
  {
   "cell_type": "code",
   "execution_count": null,
   "id": "09b5fcdc",
   "metadata": {},
   "outputs": [],
   "source": [
    "dataa = xr.open_dataset('sstanom_1d_19970101_19970731.nc').anom\n",
    "dataa = dataa.sel(lat=slice(-45., 45.))          # get rid of data out of 60S-60N\n",
    "dataa = dataa.sel(time=slice('1997-01','1997-07'))"
   ]
  },
  {
   "cell_type": "code",
   "execution_count": null,
   "id": "a96982c6",
   "metadata": {},
   "outputs": [],
   "source": [
    "maska = dataa.isel(time=0)\n",
    "maska.data = np.where(np.isnan(maska.data), 0., 1.)\n",
    "weightsa = np.cos( np.deg2rad(maska.lat) )\n",
    "weightsa = maska * weightsa\n",
    "wgteqa = weightsa.sel(lat=slice(-1.5,1.5), lon=slice(100.5, 285.5))"
   ]
  },
  {
   "cell_type": "markdown",
   "id": "29a962fd",
   "metadata": {},
   "source": [
    "### Zonal surface current"
   ]
  },
  {
   "cell_type": "code",
   "execution_count": null,
   "id": "9eaa694d",
   "metadata": {},
   "outputs": [],
   "source": [
    "datau = xr.open_dataset('uf_5d_19970101_19970727.nc').uf\n",
    "datau = datau.sel(lat=slice(-45., 45.))          # get rid of data out of 60S-60N\n",
    "datau = datau.sel(time=slice('1997-01','1997-07'))"
   ]
  },
  {
   "cell_type": "code",
   "execution_count": null,
   "id": "d57d81e8",
   "metadata": {},
   "outputs": [],
   "source": [
    "masku = datau.isel(time=0)\n",
    "masku.data = np.where(np.isnan(masku.data), 0., 1.)\n",
    "weightsu = np.cos( np.deg2rad(masku.lat) )\n",
    "weightsu = masku * weightsu\n",
    "wgtequ = weightsu.sel(lat=slice(-1.5,1.5), lon=slice(100.5, 285.5))"
   ]
  },
  {
   "cell_type": "markdown",
   "id": "5bd83a2f",
   "metadata": {},
   "source": [
    "### Sea level anomalies"
   ]
  },
  {
   "cell_type": "code",
   "execution_count": null,
   "id": "ea6a8618",
   "metadata": {},
   "outputs": [],
   "source": [
    "datah = xr.open_dataset('sla_1d_19970101_19970731.nc').sla\n",
    "datah = datah.sel(lat=slice(-45., 45.))          # get rid of data out of 60S-60N\n",
    "datah = datah.sel(time=slice('1997-01','1997-07'))"
   ]
  },
  {
   "cell_type": "code",
   "execution_count": null,
   "id": "093363fb",
   "metadata": {},
   "outputs": [],
   "source": [
    "maskh = datah.isel(time=0)\n",
    "maskh.data = np.where(np.isnan(maskh.data), 0., 1.)\n",
    "weightsh = np.cos( np.deg2rad(maskh.lat) )\n",
    "weightsh = maskh * weightsh\n",
    "wgteqh = weightsh.sel(lat=slice(-1.5,1.5), lon=slice(100.5, 285.5))"
   ]
  },
  {
   "cell_type": "markdown",
   "id": "645cfda1",
   "metadata": {},
   "source": [
    "### 10m zonal wind"
   ]
  },
  {
   "cell_type": "code",
   "execution_count": null,
   "id": "54897ec7",
   "metadata": {},
   "outputs": [],
   "source": [
    "dataw = xr.open_dataset('u10_1d_19970101_19970731.nc').u10\n",
    "dataw = dataw.sel(lat=slice(-45., 45.))          # get rid of data out of 60S-60N\n",
    "dataw = dataw.sel(time=slice('1997-01','1997-07'))"
   ]
  },
  {
   "cell_type": "code",
   "execution_count": null,
   "id": "c0d40d1e",
   "metadata": {},
   "outputs": [],
   "source": [
    "maskw = dataw.isel(time=0)\n",
    "maskw.data = np.where(np.isnan(maskw.data), 0., 1.)\n",
    "weightsw = np.cos( np.deg2rad(maskw.lat) )\n",
    "weightsw = maskw * weightsw\n",
    "wgteqw = weightsw.sel(lat=slice(-1.5,1.5), lon=slice(100.5, 285.5))"
   ]
  },
  {
   "cell_type": "markdown",
   "id": "4674dbbc",
   "metadata": {},
   "source": [
    "## Maps"
   ]
  },
  {
   "cell_type": "code",
   "execution_count": null,
   "id": "8ae80cae",
   "metadata": {},
   "outputs": [],
   "source": [
    "dataw.hvplot.image(cmap='RdBu_r', clim=(-10, 10))"
   ]
  },
  {
   "cell_type": "code",
   "execution_count": null,
   "id": "de6beba0",
   "metadata": {},
   "outputs": [],
   "source": [
    "datah.hvplot.image(cmap='RdBu_r', clim=(-.2, .2))"
   ]
  },
  {
   "cell_type": "code",
   "execution_count": null,
   "id": "0a7e36c2",
   "metadata": {},
   "outputs": [],
   "source": [
    "datau.hvplot.image(cmap='RdBu_r', clim=(-1, 1))"
   ]
  },
  {
   "cell_type": "code",
   "execution_count": null,
   "id": "c0da74b1",
   "metadata": {},
   "outputs": [],
   "source": [
    "dataa.hvplot.image(cmap='RdBu_r', clim=(-2, 2))"
   ]
  },
  {
   "cell_type": "markdown",
   "id": "ffa06a26",
   "metadata": {},
   "source": [
    "## Hovmollers"
   ]
  },
  {
   "cell_type": "code",
   "execution_count": null,
   "id": "4fa622fd",
   "metadata": {},
   "outputs": [],
   "source": [
    "dataw.weighted(wgtequ).mean(dim='lat').plot(cmap='RdBu_r', vmin=-10, vmax=10)"
   ]
  },
  {
   "cell_type": "code",
   "execution_count": null,
   "id": "8ccd4e61",
   "metadata": {},
   "outputs": [],
   "source": [
    "datah.weighted(wgteqh).mean(dim='lat').plot(cmap='RdBu_r', vmin=-.2, vmax=.2)"
   ]
  },
  {
   "cell_type": "code",
   "execution_count": null,
   "id": "a572698d",
   "metadata": {},
   "outputs": [],
   "source": [
    "datau.weighted(wgtequ).mean(dim='lat').plot(cmap='RdBu_r', vmin=-1, vmax=1)"
   ]
  },
  {
   "cell_type": "code",
   "execution_count": null,
   "id": "81394661",
   "metadata": {},
   "outputs": [],
   "source": [
    "dataa.weighted(wgtequ).mean(dim='lat').plot(cmap='RdBu_r', vmin=-2, vmax=2)"
   ]
  }
 ],
 "metadata": {
  "kernelspec": {
   "display_name": "Python 3 (ipykernel)",
   "language": "python",
   "name": "python3"
  },
  "language_info": {
   "codemirror_mode": {
    "name": "ipython",
    "version": 3
   },
   "file_extension": ".py",
   "mimetype": "text/x-python",
   "name": "python",
   "nbconvert_exporter": "python",
   "pygments_lexer": "ipython3",
   "version": "3.10.9"
  }
 },
 "nbformat": 4,
 "nbformat_minor": 5
}
