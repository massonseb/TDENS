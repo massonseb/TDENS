{
 "cells": [
  {
   "cell_type": "markdown",
   "metadata": {},
   "source": [
    "# 0. Import needed Libraries"
   ]
  },
  {
   "cell_type": "code",
   "execution_count": null,
   "metadata": {},
   "outputs": [],
   "source": [
    "# the 3 main libraries\n",
    "import numpy as np\n",
    "import xarray as xr\n",
    "import matplotlib.pyplot as plt\n",
    "from eofs.xarray import Eof as eof\n",
    "# librairies to do nicer plots...\n",
    "from matplotlib.patches import Rectangle    # only to draw a rectangle"
   ]
  },
  {
   "cell_type": "markdown",
   "metadata": {},
   "source": [
    "# 1. Get data:"
   ]
  },
  {
   "cell_type": "code",
   "execution_count": null,
   "metadata": {},
   "outputs": [],
   "source": [
    "data = xr.open_dataset('sst.mnmean.nc')"
   ]
  },
  {
   "cell_type": "code",
   "execution_count": null,
   "metadata": {},
   "outputs": [],
   "source": [
    "data = data.sel(time=slice('1982','2013'))   # keep only \"complete\" years\n",
    "data = data.sel(lat=slice(59.5, -59.5))      # get rid of data out of 60S-60N"
   ]
  },
  {
   "cell_type": "code",
   "execution_count": null,
   "metadata": {},
   "outputs": [],
   "source": [
    "mask = xr.open_dataset('lsmask.nc')\n",
    "mask = mask.sel(lat=slice(59.5, -59.5))   # reduce memory footprint: get rid of data out of 60S-60N\n",
    "mask = mask.squeeze()                     # get rid of the time dimension in the variable mask.mask"
   ]
  },
  {
   "cell_type": "code",
   "execution_count": null,
   "metadata": {},
   "outputs": [],
   "source": [
    "weights = np.cos( np.deg2rad(mask.lat) )\n",
    "weights = mask*weights"
   ]
  },
  {
   "cell_type": "markdown",
   "metadata": {},
   "source": [
    "# 2. linear trend:"
   ]
  },
  {
   "cell_type": "markdown",
   "metadata": {},
   "source": [
    "Tip: Other options for 2D plots include [.plot.contour](https://matplotlib.org/3.3.3/api/_as_gen/matplotlib.pyplot.contour.html), [.plot.contourf](https://matplotlib.org/3.3.3/api/_as_gen/matplotlib.pyplot.contourf.html), [.plot.imshow](https://matplotlib.org/3.3.3/api/_as_gen/matplotlib.pyplot.imshow.html)  \n",
    "see also [colorbars list](https://matplotlib.org/tutorials/colors/colormaps.html)"
   ]
  },
  {
   "cell_type": "markdown",
   "metadata": {},
   "source": [
    "Long term mean trend ([linear regression](http://xarray.pydata.org/en/stable/computation.html?highlight=polyval#fitting-polynomials) with [polyfit](http://xarray.pydata.org/en/stable/generated/xarray.DataArray.polyfit.html?highlight=polyfit) and [polyval](http://xarray.pydata.org/en/stable/generated/xarray.polyval.html?highlight=polyval) methonds)"
   ]
  },
  {
   "cell_type": "code",
   "execution_count": null,
   "metadata": {},
   "outputs": [],
   "source": [
    "linfit = data.sst.polyfit('time', 1)"
   ]
  },
  {
   "cell_type": "markdown",
   "metadata": {},
   "source": [
    "Detrend SST"
   ]
  },
  {
   "cell_type": "code",
   "execution_count": null,
   "metadata": {},
   "outputs": [],
   "source": [
    "trend = xr.polyval(coord=data.time, coeffs=linfit.polyfit_coefficients)   # SST trend\n",
    "sst_detrend = data.sst - trend.values + data.sst.mean(dim='time')         # detrended SST"
   ]
  },
  {
   "cell_type": "markdown",
   "metadata": {},
   "source": [
    "Detrended interannual anomaly"
   ]
  },
  {
   "cell_type": "code",
   "execution_count": null,
   "metadata": {},
   "outputs": [],
   "source": [
    "sstbymth = sst_detrend.groupby(\"time.month\")\n",
    "mthclim = sstbymth.mean(\"time\")       # detrended climatological months (seasonal cycle)\n",
    "sstanom = sstbymth - mthclim          # detrended interannual annomaly\n",
    "sstanom = sstanom.rename('sstanom')   # change variable name"
   ]
  },
  {
   "cell_type": "markdown",
   "metadata": {},
   "source": [
    "# 3. SST Regression onto Nino3.4:"
   ]
  },
  {
   "cell_type": "markdown",
   "metadata": {},
   "source": [
    "Interannual standard deviation, with [nino3.4](https://www.ncdc.noaa.gov/teleconnections/enso/indicators/sst/) box (5S-5N and 170-120W)."
   ]
  },
  {
   "cell_type": "markdown",
   "metadata": {},
   "source": [
    "Compute nino3.4 (5S-5N and 170-120W) index"
   ]
  },
  {
   "cell_type": "code",
   "execution_count": null,
   "metadata": {},
   "outputs": [],
   "source": [
    "nino34 = sstanom.sel(lon=slice(360-169.5,360-120.5), lat=slice(4.5,-4.5))\n",
    "weights_nino34 = weights.mask.sel(lon=slice(360-169.5,360-120.5), lat=slice(4.5,-4.5))\n",
    "nino34_index = sstanom.weighted(weights_nino34).mean(dim=('lon','lat'))\n",
    "nino34_index = nino34_index.rename('nino34')   # change variable name"
   ]
  },
  {
   "cell_type": "markdown",
   "metadata": {},
   "source": [
    "SST anomalies regressed onto Nino3.4 SST"
   ]
  },
  {
   "cell_type": "code",
   "execution_count": null,
   "metadata": {
    "scrolled": true
   },
   "outputs": [],
   "source": [
    "sstanom.coords[\"time\"] = ((\"time\"), nino34_index)          # redefine 'time' coordinates with nino34 time series\n",
    "linfit = sstanom.polyfit('time', 1)                        # compute the regression with this new \"time\" \n",
    "sstanom.coords[\"time\"] = ((\"time\"), data.coords[\"time\"])   # put back original time\n",
    "sstreg = linfit.polyfit_coefficients.isel(degree=0)\n",
    "#  create a 2 pannels figure\n",
    "fig, axes = plt.subplots(1,2,figsize=(14, 4))\n",
    "sstreg.where(mask.mask == 1.).plot(ax=axes[0])                              # plot the regression coefficient\n",
    "rect = Rectangle((360-170,-5),50,10,linewidth=1,edgecolor='w',fill=False)   # nino3.4 rectangle (170W-120W, 5S-5N)\n",
    "axes[0].add_patch(rect)                                                     # overlay \n",
    "axes[0].set_title('Regression coefficient')\n",
    "sstcor = xr.corr(sstanom, nino34_index, dim='time')\n",
    "sstcor.where(mask.mask == 1.).plot(ax=axes[1])\n",
    "rect = Rectangle((360-170,-5),50,10,linewidth=1,edgecolor='w',fill=False)   # nino3.4 rectangle (170W-120W, 5S-5N)\n",
    "axes[1].add_patch(rect)                                                     # overlay \n",
    "axes[1].set_title('Correlation')\n",
    "axes[1].set_xlabel('lon')\n",
    "axes[1].set_ylabel('lat')"
   ]
  },
  {
   "cell_type": "markdown",
   "metadata": {},
   "source": [
    "# 4. EOF of SST anomalies:"
   ]
  },
  {
   "cell_type": "markdown",
   "metadata": {},
   "source": [
    "Create an [Eof](https://ajdawson.github.io/eofs/latest/api/eofs.xarray.html#eofs.xarray.Eof) object"
   ]
  },
  {
   "cell_type": "code",
   "execution_count": null,
   "metadata": {},
   "outputs": [],
   "source": [
    "solver = eof(sstanom, weights=weights.mask)"
   ]
  },
  {
   "cell_type": "markdown",
   "metadata": {},
   "source": [
    "Explained variance by the different EOFs/PCs couple"
   ]
  },
  {
   "cell_type": "code",
   "execution_count": null,
   "metadata": {},
   "outputs": [],
   "source": [
    "solver.varianceFraction(neigs=10).plot.step(where='mid')"
   ]
  },
  {
   "cell_type": "markdown",
   "metadata": {},
   "source": [
    "plot the first 2 EOFs, PCs and Variance Fraction:  "
   ]
  },
  {
   "cell_type": "code",
   "execution_count": null,
   "metadata": {},
   "outputs": [],
   "source": [
    "eofs = solver.eofsAsCovariance(neofs=2)      # beware of syntaxe: A C\n",
    "pcs = solver.pcs(npcs=2, pcscaling=1)\n",
    "varfrac = solver.varianceFraction(neigs=2)   # beware of syntaxe: F\n",
    "# create a 4 pannels figure\n",
    "fig, axes = plt.subplots(2,2,figsize=(10, 5),constrained_layout=True)\n",
    "# plot EOF1 and PC1\n",
    "eofs.sel(mode=0).plot(ax=axes[0,0], cbar_kwargs={'label': '°C for 1 std of PC'})\n",
    "axes[0,0].set_title('EOF 1: '+str(int(varfrac.values[0]*100))+'%') \n",
    "pcs.sel(mode=0).plot(ax=axes[1,0])\n",
    "axes[1,0].set_title('PC 1')\n",
    "# plot EOF2 and PC2\n",
    "eofs.sel(mode=1).plot(ax=axes[0,1], cbar_kwargs={'label': '°C for 1 std of PC'})\n",
    "axes[0,1].set_title('EOF 2: '+str(int(varfrac.values[1]*100))+'%')\n",
    "pcs.sel(mode=1).plot(ax=axes[1,1])\n",
    "axes[1,1].set_title('PC 2')"
   ]
  },
  {
   "cell_type": "markdown",
   "metadata": {},
   "source": [
    "Compare EOF and regression on PC"
   ]
  },
  {
   "cell_type": "code",
   "execution_count": null,
   "metadata": {},
   "outputs": [],
   "source": [
    "# linear regression of sstanom against PC1\n",
    "sstanom.coords[\"time\"] = ((\"time\"), pcs.sel(mode=0))       # redefine 'time' coordinates with PC1 time series\n",
    "linfit = sstanom.polyfit('time', 1)                        # compute the regression with this new \"time\" \n",
    "sstanom.coords[\"time\"] = ((\"time\"), data.coords[\"time\"])   # put back original time\n",
    "sstreg = linfit.polyfit_coefficients.isel(degree=0)\n",
    "# create a 2 pannels figure\n",
    "fig, axes = plt.subplots(1, 2,figsize=(14, 4),constrained_layout=True)\n",
    "# plot regression coef\n",
    "sstreg.where(mask.mask == 1.).plot(ax=axes[0], vmin=-1, vmax=1, cmap='seismic')\n",
    "axes[0].set_title('Regression coefficient with PC1')\n",
    "# plot EOF1\n",
    "eofs.sel(mode=0).plot(ax=axes[1], vmin=-1, vmax=1, cmap='seismic', cbar_kwargs={'label': '°C for 1 std of PC'})\n",
    "axes[1].set_title('EOF 1: '+str(int(varfrac.values[0]*100))+'%') "
   ]
  },
  {
   "cell_type": "markdown",
   "metadata": {},
   "source": [
    "Composite of extrem positive events, based on PC1:"
   ]
  },
  {
   "cell_type": "code",
   "execution_count": null,
   "metadata": {},
   "outputs": [],
   "source": [
    "pc1 = pcs.sel(mode=0)\n",
    "pc1.where(pc1 > 2).dropna(dim=\"time\").time"
   ]
  },
  {
   "cell_type": "code",
   "execution_count": null,
   "metadata": {},
   "outputs": [],
   "source": [
    "big = sstanom.where(pc1 > 2)\n",
    "# create a 2 pannels figure\n",
    "fig, axes = plt.subplots(1, 2,figsize=(14, 4),constrained_layout=True)\n",
    "# composite for 1982-1983\n",
    "big82 = big.sel(time=slice(\"1982-12\",\"1983-02\")).mean(\"time\")\n",
    "big82.where(mask.mask == 1.).plot(ax=axes[0], vmin=-4, vmax=4, cmap=\"RdBu_r\")\n",
    "axes[0].set_title('SST anom, Dec 1982 - Feb 1983 composite')\n",
    "# composite for 1982-1983\n",
    "big97 = big.sel(time=slice(\"1997-12\",\"1998-02\")).mean(\"time\")\n",
    "big97.where(mask.mask == 1.).plot(ax=axes[1], vmin=-4, vmax=4, cmap=\"RdBu_r\")\n",
    "axes[1].set_title('SST anom, Dec 1997 - Feb 1998 composite')"
   ]
  },
  {
   "cell_type": "markdown",
   "metadata": {},
   "source": [
    "Composite of extrem negative events, based on PC1:"
   ]
  },
  {
   "cell_type": "code",
   "execution_count": null,
   "metadata": {},
   "outputs": [],
   "source": [
    "sstanom.where(pc1 < -2).mean(\"time\").where(mask.mask == 1.).plot()"
   ]
  },
  {
   "cell_type": "markdown",
   "metadata": {},
   "source": [
    "repeat the EOF analysys with SST (not SST anomalies)"
   ]
  },
  {
   "cell_type": "code",
   "execution_count": null,
   "metadata": {},
   "outputs": [],
   "source": [
    "solver = eof(data.sst, weights=weights.mask)   # use data.sst insetad of sstanom"
   ]
  },
  {
   "cell_type": "code",
   "execution_count": null,
   "metadata": {},
   "outputs": [],
   "source": [
    "solver.varianceFraction(neigs=10).plot.step(where='mid')"
   ]
  },
  {
   "cell_type": "code",
   "execution_count": null,
   "metadata": {},
   "outputs": [],
   "source": [
    "eofs = solver.eofsAsCovariance(neofs=2)      # beware of syntaxe: A C\n",
    "pcs = solver.pcs(npcs=2, pcscaling=1)\n",
    "varfrac = solver.varianceFraction(neigs=2)   # beware of syntaxe: F\n",
    "# create a 4 pannels figure\n",
    "fig, axes = plt.subplots(2,2,figsize=(10, 5),constrained_layout=True)\n",
    "# plot EOF1 and PC1\n",
    "eofs.sel(mode=0).plot(ax=axes[0,0], cbar_kwargs={'label': '°C for 1 std of PC'}, vmin=-4, vmax=4, cmap=\"RdBu_r\")\n",
    "axes[0,0].set_title('EOF 1: '+str(int(varfrac.values[0]*100))+'%') \n",
    "pcs.sel(mode=0).plot(ax=axes[1,0])\n",
    "axes[1,0].set_title('PC 1')\n",
    "# plot EOF2 and PC2\n",
    "eofs.sel(mode=1).plot(ax=axes[0,1], cbar_kwargs={'label': '°C for 1 std of PC'}, vmin=-4, vmax=4, cmap=\"RdBu_r\")\n",
    "axes[0,1].set_title('EOF 2: '+str(int(varfrac.values[1]*100))+'%')\n",
    "pcs.sel(mode=1).plot(ax=axes[1,1])\n",
    "axes[1,1].set_title('PC 2')"
   ]
  }
 ],
 "metadata": {
  "kernelspec": {
   "display_name": "Python 3 (ipykernel)",
   "language": "python",
   "name": "python3"
  },
  "language_info": {
   "codemirror_mode": {
    "name": "ipython",
    "version": 3
   },
   "file_extension": ".py",
   "mimetype": "text/x-python",
   "name": "python",
   "nbconvert_exporter": "python",
   "pygments_lexer": "ipython3",
   "version": "3.9.9"
  }
 },
 "nbformat": 4,
 "nbformat_minor": 4
}
