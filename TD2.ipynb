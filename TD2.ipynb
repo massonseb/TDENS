{
 "cells": [
  {
   "cell_type": "markdown",
   "metadata": {},
   "source": [
    "# 0. Import needed Libraries"
   ]
  },
  {
   "cell_type": "code",
   "execution_count": null,
   "metadata": {},
   "outputs": [],
   "source": [
    "# the 3 main libraries\n",
    "import numpy as np\n",
    "import xarray as xr\n",
    "import matplotlib.pyplot as plt\n",
    "from eofs.xarray import Eof as eof\n",
    "# librairies to do nicer plots...\n",
    "from matplotlib.patches import Rectangle    # only to draw a rectangle"
   ]
  },
  {
   "cell_type": "markdown",
   "metadata": {},
   "source": [
    "# 1. TD summary:"
   ]
  },
  {
   "cell_type": "code",
   "execution_count": null,
   "metadata": {},
   "outputs": [],
   "source": [
    "data = xr.open_dataset('sst.mnmean.nc')"
   ]
  },
  {
   "cell_type": "code",
   "execution_count": null,
   "metadata": {},
   "outputs": [],
   "source": [
    "data = data.sel(time=slice('1982','2013'))   # keep only \"complete\" years\n",
    "data = data.sel(lat=slice(59.5, -59.5))      # get rid of data out of 60S-60N"
   ]
  },
  {
   "cell_type": "code",
   "execution_count": null,
   "metadata": {},
   "outputs": [],
   "source": [
    "mask = xr.open_dataset('lsmask.nc')\n",
    "mask = mask.sel(lat=slice(59.5, -59.5))   # reduce memory footprint: get rid of data out of 60S-60N\n",
    "mask = mask.squeeze()                     # get rid of the time dimension in the variable mask.mask"
   ]
  },
  {
   "cell_type": "code",
   "execution_count": null,
   "metadata": {},
   "outputs": [],
   "source": [
    "weights = np.cos( np.deg2rad(mask.lat) )\n",
    "weights = mask*weights"
   ]
  },
  {
   "cell_type": "markdown",
   "metadata": {},
   "source": [
    "# 2. linear trend:"
   ]
  },
  {
   "cell_type": "markdown",
   "metadata": {},
   "source": [
    "Long term mean trend ([linear regression](http://xarray.pydata.org/en/stable/computation.html?highlight=polyval#fitting-polynomials) with [polyfit](http://xarray.pydata.org/en/stable/generated/xarray.DataArray.polyfit.html?highlight=polyfit) and [polyval](http://xarray.pydata.org/en/stable/generated/xarray.polyval.html?highlight=polyval) methonds)"
   ]
  },
  {
   "cell_type": "code",
   "execution_count": null,
   "metadata": {},
   "outputs": [],
   "source": [
    "linfit = data.sst.polyfit('time', 1)               # compute linear regression coefficients\n",
    "linfit.polyfit_coefficients"
   ]
  },
  {
   "cell_type": "code",
   "execution_count": null,
   "metadata": {},
   "outputs": [],
   "source": [
    "slope = linfit.polyfit_coefficients.isel(degree=0)   # Polynomial coefficients, highest power first\n",
    "ns_century = 1.e9*3600.*24.*365.*100.                # scaling: nono-seconds to century\n",
    "(slope*ns_century).where(mask.mask == 1.).plot(vmin=-5,vmax=5,cmap='RdBu_r')\n",
    "plt.title('Trend Slope in deg/century')"
   ]
  },
  {
   "cell_type": "markdown",
   "metadata": {},
   "source": [
    "Detrend SST"
   ]
  },
  {
   "cell_type": "code",
   "execution_count": null,
   "metadata": {},
   "outputs": [],
   "source": [
    "trend = xr.polyval(coord=data.time, coeffs=linfit.polyfit_coefficients)   # SST trend\n",
    "sst_detrend = data.sst - trend.values + data.sst.mean(dim='time')         # detrended SST"
   ]
  },
  {
   "cell_type": "code",
   "execution_count": null,
   "metadata": {
    "scrolled": true
   },
   "outputs": [],
   "source": [
    "fig, axes = plt.subplots(1,2, figsize=(6,3), constrained_layout=True)\n",
    "a = data.sst.groupby('time.year').mean(dim='time')      # yearly mean\n",
    "a.weighted(weights.mask).mean(dim=('lon','lat')).plot(ax=axes[0], label=\"org\")\n",
    "a = trend.groupby('time.year').mean(dim='time')         # yearly mean\n",
    "a.weighted(weights.mask).mean(dim=('lon','lat')).plot(ax=axes[0], label=\"trend\")\n",
    "axes[0].legend()\n",
    "axes[0].set_title('With trend')\n",
    "#\n",
    "a = sst_detrend.groupby('time.year').mean(dim='time')   # yearly mean\n",
    "a.weighted(weights.mask).mean(dim=('lon','lat')).plot(ax=axes[1], label=\"detrend\")\n",
    "axes[1].legend()\n",
    "axes[1].set_title('Without trend')"
   ]
  },
  {
   "cell_type": "markdown",
   "metadata": {},
   "source": [
    "Detrended interannual anomaly"
   ]
  },
  {
   "cell_type": "code",
   "execution_count": null,
   "metadata": {},
   "outputs": [],
   "source": [
    "sstbymth = sst_detrend.groupby(\"time.month\")\n",
    "mthclim = sstbymth.mean(\"time\")       # detrended climatological months (seasonal cycle)\n",
    "sstanom = sstbymth - mthclim          # detrended interannual annomaly\n",
    "sstanom = sstanom.rename('sstanom')   # change variable name"
   ]
  },
  {
   "cell_type": "markdown",
   "metadata": {},
   "source": [
    "interannual anomaly (with/without trend)"
   ]
  },
  {
   "cell_type": "code",
   "execution_count": null,
   "metadata": {},
   "outputs": [],
   "source": [
    "a = data.sst.weighted(weights.mask).mean(dim=('lon','lat'))\n",
    "clim = a.groupby(\"time.month\").mean(\"time\")   # climatological months (seasonal cycle)\n",
    "anom = a.groupby(\"time.month\") - clim         # interannual annomaly\n",
    "anom.plot(label=\"org\")\n",
    "#\n",
    "sstanom.weighted(weights.mask).mean(dim=('lon','lat')).plot(label=\"detrended\")\n",
    "plt.legend()"
   ]
  },
  {
   "cell_type": "markdown",
   "metadata": {},
   "source": [
    "# 3. SST Regression onto Nino3.4:"
   ]
  },
  {
   "cell_type": "markdown",
   "metadata": {},
   "source": [
    "Interannual standard deviation, with [nino3.4](https://www.ncdc.noaa.gov/teleconnections/enso/indicators/sst/) box (5S-5N and 170-120W)."
   ]
  },
  {
   "cell_type": "code",
   "execution_count": null,
   "metadata": {},
   "outputs": [],
   "source": [
    "fig, axes = plt.subplots(1,2, figsize=(10,5), constrained_layout=True)\n",
    "sst_detrend.std(dim='time').where(mask.mask == 1.).plot(ax=axes[0],vmin=0,vmax=5,cmap='YlGnBu')\n",
    "axes[0].set_title('SST STD')\n",
    "sstanom.std(dim='time').where(mask.mask == 1.).plot(ax=axes[1],vmin=0,vmax=2,cmap='YlGnBu')\n",
    "axes[1].set_title('SST anom STD')\n",
    "# overplot nino3.4 rectangle (170W-120W, 5S-5N)\n",
    "ax = plt.gca()                                                              # Get the current reference\n",
    "rect = Rectangle((360-170,-5),50,10,linewidth=1,edgecolor='r',fill=False)   # Create a Rectangle patch\n",
    "ax.add_patch(rect)                                                          # Add the patch to the Axes"
   ]
  },
  {
   "cell_type": "markdown",
   "metadata": {},
   "source": [
    "Equatorial hovmoller of the SST interannual anomaly"
   ]
  },
  {
   "cell_type": "code",
   "execution_count": null,
   "metadata": {},
   "outputs": [],
   "source": [
    "fig, axes = plt.subplots(1,2,figsize=(10, 10))\n",
    "wgteq = weights.sel(lat=slice(2.5,-2.5), lon=slice(100.5, 285.5))\n",
    "#\n",
    "ssteq = sst_detrend.sel(lat=slice(2.5,-2.5), lon=slice(100.5, 285.5))\n",
    "ssteq.weighted(wgteq.mask).mean(dim='lat').plot(ax=axes[0])\n",
    "#\n",
    "ssteq = sstanom.sel(lat=slice(2.5,-2.5), lon=slice(100.5, 285.5))\n",
    "ssteq.weighted(wgteq.mask).mean(dim='lat').plot(ax=axes[1])"
   ]
  },
  {
   "cell_type": "markdown",
   "metadata": {},
   "source": [
    "Compute nino3.4 (5S-5N and 170-120W) index"
   ]
  },
  {
   "cell_type": "code",
   "execution_count": null,
   "metadata": {},
   "outputs": [],
   "source": [
    "nino34 = sstanom.sel(lon=slice(360-169.5,360-120.5), lat=slice(4.5,-4.5))\n",
    "weights_nino34 = weights.mask.sel(lon=slice(360-169.5,360-120.5), lat=slice(4.5,-4.5))\n",
    "nino34_index = sstanom.weighted(weights_nino34).mean(dim=('lon','lat'))\n",
    "nino34_index = nino34_index.rename('nino34')   # change variable name\n",
    "nino34_index.plot()"
   ]
  },
  {
   "cell_type": "markdown",
   "metadata": {},
   "source": [
    "SST anomalies regressed onto Nino3.4 SST"
   ]
  },
  {
   "cell_type": "code",
   "execution_count": null,
   "metadata": {},
   "outputs": [],
   "source": [
    "sstanom.coords[\"time\"] = ((\"time\"), nino34_index.data)  # redefine 'time' coordinates with nino34 time series\n",
    "linfit = sstanom.polyfit('time', 1)                     # compute the regression with this new \"time\" \n",
    "sstanom.coords[\"time\"] = ((\"time\"), data.time.data)     # put back original time\n",
    "sstreg = linfit.polyfit_coefficients.isel(degree=0)\n",
    "#\n",
    "fig, axes = plt.subplots(1,2,figsize=(14, 5))\n",
    "sstreg.where(mask.mask == 1.).plot(ax=axes[0])                              # plot the regression coefficient\n",
    "rect = Rectangle((360-170,-5),50,10,linewidth=1,edgecolor='w',fill=False)   # nino3.4 rectangle (170W-120W, 5S-5N)\n",
    "axes[0].add_patch(rect)                                                     # overlay \n",
    "axes[0].set_title('Regression coefficient')\n",
    "sstcor = xr.corr(sstanom, nino34_index, dim='time')\n",
    "sstcor.where(mask.mask == 1.).plot(ax=axes[1])\n",
    "rect = Rectangle((360-170,-5),50,10,linewidth=1,edgecolor='w',fill=False)   # nino3.4 rectangle (170W-120W, 5S-5N)\n",
    "axes[1].add_patch(rect)                                                     # overlay \n",
    "axes[1].set_title('Correlation')\n",
    "axes[1].set_xlabel('lon')\n",
    "axes[1].set_ylabel('lat')"
   ]
  }
 ],
 "metadata": {
  "kernelspec": {
   "display_name": "Python 3 (ipykernel)",
   "language": "python",
   "name": "python3"
  },
  "language_info": {
   "codemirror_mode": {
    "name": "ipython",
    "version": 3
   },
   "file_extension": ".py",
   "mimetype": "text/x-python",
   "name": "python",
   "nbconvert_exporter": "python",
   "pygments_lexer": "ipython3",
   "version": "3.10.8"
  }
 },
 "nbformat": 4,
 "nbformat_minor": 4
}
