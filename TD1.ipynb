{
 "cells": [
  {
   "cell_type": "markdown",
   "metadata": {},
   "source": [
    "# 0. Import needed Libraries"
   ]
  },
  {
   "cell_type": "code",
   "execution_count": null,
   "metadata": {},
   "outputs": [],
   "source": [
    "# the 3 main libraries\n",
    "import numpy as np\n",
    "import xarray as xr\n",
    "import matplotlib.pyplot as plt\n",
    "# librairies to do nicer plots...\n",
    "import cartopy.crs as ccrs     # only for plots with projections and continents maps\n",
    "#import hvplot.xarray           # only for \"fancy\" plots"
   ]
  },
  {
   "cell_type": "markdown",
   "metadata": {},
   "source": [
    "# 1. xarray basic manipulation:"
   ]
  },
  {
   "cell_type": "markdown",
   "metadata": {},
   "source": [
    " - Open file"
   ]
  },
  {
   "cell_type": "code",
   "execution_count": null,
   "metadata": {},
   "outputs": [],
   "source": [
    "data = xr.open_dataset('sst.mnmean.nc')"
   ]
  },
  {
   "cell_type": "markdown",
   "metadata": {},
   "source": [
    " - explore **[Dataset](http://xarray.pydata.org/en/stable/generated/xarray.Dataset.html)**"
   ]
  },
  {
   "cell_type": "code",
   "execution_count": null,
   "metadata": {},
   "outputs": [],
   "source": [
    "data  # file Dataset"
   ]
  },
  {
   "cell_type": "code",
   "execution_count": null,
   "metadata": {},
   "outputs": [],
   "source": [
    "data.coords"
   ]
  },
  {
   "cell_type": "code",
   "execution_count": null,
   "metadata": {},
   "outputs": [],
   "source": [
    "data.time.size"
   ]
  },
  {
   "cell_type": "code",
   "execution_count": null,
   "metadata": {},
   "outputs": [],
   "source": [
    "data.data_vars"
   ]
  },
  {
   "cell_type": "markdown",
   "metadata": {},
   "source": [
    " - explore **[DataArray](http://xarray.pydata.org/en/stable/generated/xarray.DataArray.html)**"
   ]
  },
  {
   "cell_type": "code",
   "execution_count": null,
   "metadata": {},
   "outputs": [],
   "source": [
    "data.sst  # sst DataArray http://xarray.pydata.org/en/stable/generated/xarray.DataArray.html"
   ]
  },
  {
   "cell_type": "code",
   "execution_count": null,
   "metadata": {},
   "outputs": [],
   "source": [
    "print(data.sst.shape)\n",
    "print(data.sst.ndim)\n",
    "print(data.sst.dims)"
   ]
  },
  {
   "cell_type": "markdown",
   "metadata": {},
   "source": [
    "data index selection: **[isel()](http://xarray.pydata.org/en/stable/generated/xarray.DataArray.isel.html)**  "
   ]
  },
  {
   "cell_type": "code",
   "execution_count": null,
   "metadata": {},
   "outputs": [],
   "source": [
    "data.sst.isel(lon=100, lat=50, time=0)     # select the point defined by its indexes (i=100, j=50, t=0)"
   ]
  },
  {
   "cell_type": "markdown",
   "metadata": {},
   "source": [
    "data value selection: **[sel()](http://xarray.pydata.org/en/stable/generated/xarray.DataArray.sel.html)**  "
   ]
  },
  {
   "cell_type": "code",
   "execution_count": null,
   "metadata": {},
   "outputs": [],
   "source": [
    "data.sst.sel(lon=180.5, lat=0.5)   # time series for a point defined by its location (lon = 180.5, lat = 0.5)\n",
    "                                   # --> Warning: lon=180.5 and lat=0.5 must exist \n",
    "data.sst.sel(lon=180.0, lat=0.0, method='nearest')   # time series for a point defined near its location"
   ]
  },
  {
   "cell_type": "markdown",
   "metadata": {},
   "source": [
    "the **[slice](https://docs.python.org/3.8/library/functions.html#slice)** object  "
   ]
  },
  {
   "cell_type": "code",
   "execution_count": null,
   "metadata": {
    "scrolled": true
   },
   "outputs": [],
   "source": [
    "data.sst.sel(lon=180.5, lat=slice(1.0,-1.0))  # Warning : respect latitude order 1.0 before -1.0"
   ]
  },
  {
   "cell_type": "markdown",
   "metadata": {},
   "source": [
    "different syntaxes accepted for the time dimension"
   ]
  },
  {
   "cell_type": "code",
   "execution_count": null,
   "metadata": {},
   "outputs": [],
   "source": [
    "print( data.sst.isel(time=200).shape )\n",
    "print( data.sst.sel(time='2000-01-01T00:00:00.000000000').shape )\n",
    "print( data.sst.sel(time='2000-01-01').shape )\n",
    "print( data.sst.sel(time='2000-01').shape )\n",
    "print( data.sst.sel(time='2000').shape )\n",
    "print( data.sst.sel(time=slice('2000','2002')).shape )"
   ]
  },
  {
   "cell_type": "markdown",
   "metadata": {},
   "source": [
    "combine isel and sel selections"
   ]
  },
  {
   "cell_type": "code",
   "execution_count": null,
   "metadata": {},
   "outputs": [],
   "source": [
    "data.sst.isel(time=200).sel(lon=180.5, lat=slice(1.0,-1.0))"
   ]
  },
  {
   "cell_type": "markdown",
   "metadata": {},
   "source": [
    "the **[GroupBy](http://xarray.pydata.org/en/stable/generated/xarray.DataArray.groupby.html)** object  "
   ]
  },
  {
   "cell_type": "code",
   "execution_count": null,
   "metadata": {},
   "outputs": [],
   "source": [
    "data.sst.groupby('time.month').mean(dim='time').shape"
   ]
  },
  {
   "cell_type": "markdown",
   "metadata": {},
   "source": [
    "# 2. reduce memory footprint"
   ]
  },
  {
   "cell_type": "code",
   "execution_count": null,
   "metadata": {},
   "outputs": [],
   "source": [
    "data = data.sel(time=slice('1982','2013'))   # keep only \"complete\" years\n",
    "data = data.sel(lat=slice(60, -60))      # get rid of data out of 60S-60N"
   ]
  },
  {
   "cell_type": "markdown",
   "metadata": {},
   "source": [
    "# 3. a few basic plots\n",
    "See xarray doc on [visualization](https://tutorial.xarray.dev/fundamentals/04.0_plotting.html)"
   ]
  },
  {
   "cell_type": "markdown",
   "metadata": {},
   "source": [
    "SST time series on 2 different SST time series on 2 different points, [pyplot options](https://matplotlib.org/api/_as_gen/matplotlib.pyplot.plot.html)"
   ]
  },
  {
   "cell_type": "code",
   "execution_count": null,
   "metadata": {},
   "outputs": [],
   "source": [
    "fig, axes = plt.subplots(2,1,sharex=True)\n",
    "data.sst.isel(lon=100, lat=50).plot(ax=axes[0])\n",
    "data.sst.sel(lon=180.5, lat=0.5).plot(ax=axes[1])\n",
    "plt.show()"
   ]
  },
  {
   "cell_type": "markdown",
   "metadata": {},
   "source": [
    "Spatial average of monthly mean "
   ]
  },
  {
   "cell_type": "code",
   "execution_count": null,
   "metadata": {},
   "outputs": [],
   "source": [
    "data.sst.groupby('time.month').mean(dim='time').mean(dim=('lon','lat')).plot()"
   ]
  },
  {
   "cell_type": "markdown",
   "metadata": {},
   "source": [
    "Get the land-sea mask"
   ]
  },
  {
   "cell_type": "code",
   "execution_count": null,
   "metadata": {},
   "outputs": [],
   "source": [
    "data_mask = xr.open_dataset('lsmask.nc')\n",
    "data_mask"
   ]
  },
  {
   "cell_type": "code",
   "execution_count": null,
   "metadata": {},
   "outputs": [],
   "source": [
    "mask = data_mask.mask                     # get the DataArray from the Dataset\n",
    "mask = mask.sel(lat=slice(60.0, -60.0))   # select mask.mask and reduce memory footprint: get rid of data out of 60S-60N\n",
    "mask = mask.squeeze()                     # get rid of the time dimension in the variable mask.mask\n",
    "mask.plot()"
   ]
  },
  {
   "cell_type": "markdown",
   "metadata": {},
   "source": [
    "Simple SST maps without and with masked values.\n",
    "[colorbars list](https://matplotlib.org/tutorials/colors/colormaps.html)"
   ]
  },
  {
   "cell_type": "code",
   "execution_count": null,
   "metadata": {},
   "outputs": [],
   "source": [
    "fig, axes = plt.subplots(2,1)\n",
    "sst2d = data.sst.isel(time=100)\n",
    "sst2d.plot(ax=axes[0])\n",
    "sst2d = sst2d.where(mask == 1.)\n",
    "sst2d.plot(vmin=-2, vmax=32, cmap='gist_rainbow_r',ax=axes[1])\n",
    "plt.show()"
   ]
  },
  {
   "cell_type": "markdown",
   "metadata": {},
   "source": [
    "Map with continents and [projection](https://scitools.org.uk/cartopy/docs/latest/crs/projections.html) "
   ]
  },
  {
   "cell_type": "code",
   "execution_count": null,
   "metadata": {},
   "outputs": [],
   "source": [
    "p = data.sst.isel(time=200).where(mask == 1.).plot(\n",
    "    subplot_kws=dict( projection=ccrs.PlateCarree(central_longitude=200), facecolor='gray'),\n",
    "    transform=ccrs.PlateCarree(),vmin=-2, vmax=32, cmap='gist_rainbow_r'\n",
    ")\n",
    "p.axes.set_global()\n",
    "p.axes.coastlines()\n",
    "p.axes.gridlines()"
   ]
  },
  {
   "cell_type": "markdown",
   "metadata": {},
   "source": [
    "Widget maps with continents and projection"
   ]
  },
  {
   "cell_type": "code",
   "execution_count": null,
   "metadata": {},
   "outputs": [],
   "source": [
    "#proj = ccrs.PlateCarree(central_longitude=200)\n",
    "#proj = ccrs.LambertCylindrical(central_longitude=200)\n",
    "\n",
    "#data.sst.isel(time=slice(1, 13)).where(mask.mask == 1.).hvplot.quadmesh(\n",
    "#    'lon', 'lat', clim=(-2,32), projection=proj, project=True, global_extent=True, \n",
    "#    cmap='gist_rainbow_r', rasterize=True, dynamic=False, coastline=True, \n",
    "#    frame_width=500, widget_location='bottom', widget_type='scrubber')"
   ]
  },
  {
   "cell_type": "markdown",
   "metadata": {},
   "source": [
    "Longitude-time plot around the equator \"[hovmoller diagram](https://fr.wikipedia.org/wiki/Diagramme_de_Hovm%C3%B6ller)\""
   ]
  },
  {
   "cell_type": "code",
   "execution_count": null,
   "metadata": {
    "scrolled": true
   },
   "outputs": [],
   "source": [
    "data.sst.sel(lat=slice(1.5,-1.5)).mean(dim='lat').plot()"
   ]
  },
  {
   "cell_type": "markdown",
   "metadata": {},
   "source": [
    "# 4. basic computation:"
   ]
  },
  {
   "cell_type": "markdown",
   "metadata": {},
   "source": [
    "Compute spatial weight:  \n",
    "Earth is not flat! Regular lat-lon grid cells area varies with the cosinus of the latitude (see [sperical coordinates](https://mathinsight.org/spherical_coordinates)).  \n",
    "  -> weight data with mask * cos( lat )"
   ]
  },
  {
   "cell_type": "code",
   "execution_count": null,
   "metadata": {},
   "outputs": [],
   "source": [
    "weights = np.cos( np.deg2rad(mask.lat) )\n",
    "weights = mask*weights\n",
    "weights.plot()"
   ]
  },
  {
   "cell_type": "markdown",
   "metadata": {},
   "source": [
    "Visualize the weights"
   ]
  },
  {
   "cell_type": "code",
   "execution_count": null,
   "metadata": {},
   "outputs": [],
   "source": [
    "data.sst.weighted(weights).mean((\"time\", \"lon\")).plot()"
   ]
  },
  {
   "cell_type": "markdown",
   "metadata": {},
   "source": [
    "Comparison of horizontal mean: masked and [weighted](http://xarray.pydata.org/en/stable/computation.html?highlight=rolling#weighted-array-reductions)"
   ]
  },
  {
   "cell_type": "code",
   "execution_count": null,
   "metadata": {},
   "outputs": [],
   "source": [
    "data.sst.mean((\"lon\", \"lat\")).plot(label=\"unweighted\")\n",
    "weights = np.cos(np.deg2rad(data.lat))\n",
    "data.sst.weighted(weights).mean((\"lon\", \"lat\")).plot(label=\"weighted\")\n",
    "weights = np.cos(np.deg2rad(mask.lat))\n",
    "weights = mask*weights\n",
    "data.sst.weighted(weights).mean((\"lon\", \"lat\")).plot(label=\"weighted+mask\")\n",
    "plt.legend()"
   ]
  },
  {
   "cell_type": "markdown",
   "metadata": {},
   "source": [
    "Mean seasonal cycle"
   ]
  },
  {
   "cell_type": "code",
   "execution_count": null,
   "metadata": {},
   "outputs": [],
   "source": [
    "a = data.sst.groupby('time.month').mean(dim='time')\n",
    "#a.mean(dim=('lon','lat')).plot(label=\"unweighted\")\n",
    "fig, axes = plt.subplots(3,1, figsize=(10, 10), constrained_layout=True)\n",
    "a.weighted(weights).mean(dim=('lon','lat')).plot(label=\"global mean\", ax=axes[0])\n",
    "axes[0].set_title('global mean')\n",
    "a.sel(lon=150.5, lat=2.5).plot(ax=axes[1])\n",
    "axes[1].set_title('West Eq. Pac.')\n",
    "a.sel(lon=300.5, lat=45.5).plot(ax=axes[2])\n",
    "axes[2].set_title('North-West Atl.')"
   ]
  },
  {
   "cell_type": "markdown",
   "metadata": {},
   "source": [
    "[Rolling](http://xarray.pydata.org/en/stable/computation.html?highlight=rolling#rolling-window-operations) mean"
   ]
  },
  {
   "cell_type": "code",
   "execution_count": null,
   "metadata": {},
   "outputs": [],
   "source": [
    "a = data.sst.weighted(weights).mean((\"lon\", \"lat\"))\n",
    "a.plot(label=\"weighted+mask\")\n",
    "b = a.rolling(time=12, center=True).mean()\n",
    "b.plot(label=\"rolling 1 year\")\n",
    "b = a.rolling(time=12*5, center=True).mean()\n",
    "b.plot(label=\"rolling 5 years\")\n",
    "plt.legend()\n",
    "c = a.rolling(time=12*10, center=True).mean()\n",
    "c.plot(label=\"rolling 10 years\")\n",
    "plt.legend()"
   ]
  },
  {
   "cell_type": "markdown",
   "metadata": {},
   "source": [
    "Global yearly mean"
   ]
  },
  {
   "cell_type": "code",
   "execution_count": null,
   "metadata": {},
   "outputs": [],
   "source": [
    "a = data.sst.groupby('time.year').mean(dim='time')   # yearly mean\n",
    "a.weighted(weights).mean(dim=('lon','lat')).plot(label=\"weighted+mask\")\n",
    "#a.mean(dim=('lon','lat')).plot(label=\"unweighted\")\n",
    "plt.legend()"
   ]
  },
  {
   "cell_type": "markdown",
   "metadata": {},
   "source": [
    "Total standard deviation : [std](http://xarray.pydata.org/en/stable/generated/xarray.Dataset.std.html?highlight=std) method "
   ]
  },
  {
   "cell_type": "code",
   "execution_count": null,
   "metadata": {},
   "outputs": [],
   "source": [
    "a = data.sst.std(dim='time').where(mask == 1.)\n",
    "fig, axes = plt.subplots(2,1)\n",
    "a.plot(vmin=0,vmax=6,ax=axes[0])\n",
    "a.sel(lon=slice(260.5,320.5),lat=slice(50.5,10.5)).plot(vmin=0,vmax=6,ax=axes[1])"
   ]
  },
  {
   "cell_type": "markdown",
   "metadata": {},
   "source": [
    "Seasonal standard deviation"
   ]
  },
  {
   "cell_type": "code",
   "execution_count": null,
   "metadata": {},
   "outputs": [],
   "source": [
    "a = data.sst.groupby('time.month').mean(dim='time')\n",
    "#(a.max(dim='month') - a.min(dim='month')).where(mask.mask == 1.).plot(vmin=0,vmax=12)\n",
    "a.std(dim='month').where(mask == 1.).plot(vmin=0,vmax=6)"
   ]
  },
  {
   "cell_type": "markdown",
   "metadata": {},
   "source": [
    "# 5. linear trend:"
   ]
  },
  {
   "cell_type": "markdown",
   "metadata": {},
   "source": [
    "Long term mean trend ([linear regression](http://xarray.pydata.org/en/stable/computation.html?highlight=polyval#fitting-polynomials) with [polyfit](http://xarray.pydata.org/en/stable/generated/xarray.DataArray.polyfit.html?highlight=polyfit) and [polyval](http://xarray.pydata.org/en/stable/generated/xarray.polyval.html?highlight=polyval) methonds)"
   ]
  },
  {
   "cell_type": "code",
   "execution_count": null,
   "metadata": {},
   "outputs": [],
   "source": [
    "linfit = data.sst.polyfit('time', 1)               # compute linear regression coefficients\n",
    "linfit.polyfit_coefficients"
   ]
  },
  {
   "cell_type": "code",
   "execution_count": null,
   "metadata": {},
   "outputs": [],
   "source": [
    "slope = linfit.polyfit_coefficients.isel(degree=0)   # Polynomial coefficients, highest power first\n",
    "ns_century = 1.e9*3600.*24.*365.*100.                # scaling: nono-seconds to century\n",
    "(slope*ns_century).where(mask == 1.).plot(vmin=-5,vmax=5,cmap='RdBu_r')\n",
    "plt.title('Trend Slope in deg/century')"
   ]
  },
  {
   "cell_type": "markdown",
   "metadata": {},
   "source": [
    "Detrend SST"
   ]
  },
  {
   "cell_type": "code",
   "execution_count": null,
   "metadata": {},
   "outputs": [],
   "source": [
    "trend = xr.polyval(coord=data.time, coeffs=linfit.polyfit_coefficients)   # SST trend\n",
    "sst_detrend = data.sst - trend.values + data.sst.mean(dim='time')         # detrended SST"
   ]
  },
  {
   "cell_type": "code",
   "execution_count": null,
   "metadata": {
    "scrolled": true
   },
   "outputs": [],
   "source": [
    "fig, axes = plt.subplots(1,2, figsize=(6,3), constrained_layout=True)\n",
    "a = data.sst.groupby('time.year').mean(dim='time')      # yearly mean\n",
    "a.weighted(weights).mean(dim=('lon','lat')).plot(ax=axes[0], label=\"org\")\n",
    "a = trend.groupby('time.year').mean(dim='time')         # yearly mean\n",
    "a.weighted(weights).mean(dim=('lon','lat')).plot(ax=axes[0], label=\"trend\")\n",
    "axes[0].legend()\n",
    "axes[0].set_title('With trend')\n",
    "#\n",
    "a = sst_detrend.groupby('time.year').mean(dim='time')   # yearly mean\n",
    "a.weighted(weights).mean(dim=('lon','lat')).plot(ax=axes[1], label=\"detrend\")\n",
    "axes[1].legend()\n",
    "axes[1].set_title('Without trend')"
   ]
  },
  {
   "cell_type": "markdown",
   "metadata": {},
   "source": [
    "Detrended interannual anomaly"
   ]
  },
  {
   "cell_type": "code",
   "execution_count": null,
   "metadata": {},
   "outputs": [],
   "source": [
    "sstbymth = sst_detrend.groupby(\"time.month\")\n",
    "mthclim = sstbymth.mean(\"time\")   # detrended climatological months (seasonal cycle)\n",
    "sstanom = sstbymth - mthclim      # detrended interannual annomaly"
   ]
  },
  {
   "cell_type": "markdown",
   "metadata": {},
   "source": [
    "interannual anomaly (with/without trend)"
   ]
  },
  {
   "cell_type": "code",
   "execution_count": null,
   "metadata": {},
   "outputs": [],
   "source": [
    "a = data.sst.weighted(weights).mean(dim=('lon','lat'))\n",
    "clim = a.groupby(\"time.month\").mean(\"time\")   # climatological months (seasonal cycle)\n",
    "anom = a.groupby(\"time.month\") - clim         # interannual annomaly\n",
    "anom.plot(label=\"org\")\n",
    "#\n",
    "sstanom.weighted(weights).mean(dim=('lon','lat')).plot(label=\"detrended\")\n",
    "plt.legend()"
   ]
  }
 ],
 "metadata": {
  "kernelspec": {
   "display_name": "Python 3 (ipykernel)",
   "language": "python",
   "name": "python3"
  },
  "language_info": {
   "codemirror_mode": {
    "name": "ipython",
    "version": 3
   },
   "file_extension": ".py",
   "mimetype": "text/x-python",
   "name": "python",
   "nbconvert_exporter": "python",
   "pygments_lexer": "ipython3",
   "version": "3.10.9"
  }
 },
 "nbformat": 4,
 "nbformat_minor": 4
}
