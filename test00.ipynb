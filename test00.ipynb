{
 "cells": [
  {
   "cell_type": "markdown",
   "metadata": {},
   "source": [
    "We will use a Sea Surface Temperature (SST)\n",
    "\n",
    "look for \"SST Global grilled Data\"\n",
    "data are available on different web pages:\n",
    "https://psl.noaa.gov/data/gridded/\n",
    " - 1Â° resolution\n",
    " - monthly data\n",
    " - satellite period (>1980)\n",
    " - mix all data\n",
    "\n",
    "https://psl.noaa.gov/data/gridded/data.noaa.oisst.v2.html"
   ]
  },
  {
   "cell_type": "markdown",
   "metadata": {},
   "source": [
    "# Import needed Libraries"
   ]
  },
  {
   "cell_type": "code",
   "execution_count": null,
   "metadata": {},
   "outputs": [],
   "source": [
    "import numpy as np\n",
    "import xarray as xr\n",
    "import matplotlib.pyplot as plt\n",
    "import cartopy.crs as ccrs\n",
    "import hvplot.xarray"
   ]
  },
  {
   "cell_type": "markdown",
   "metadata": {},
   "source": [
    "# xarray basic manipulation:\n",
    " - Open file\n",
    " - explore [Dataset](http://xarray.pydata.org/en/stable/generated/xarray.Dataset.html)\n",
    " - explore [DataArray](http://xarray.pydata.org/en/stable/generated/xarray.DataArray.html)"
   ]
  },
  {
   "cell_type": "code",
   "execution_count": null,
   "metadata": {},
   "outputs": [],
   "source": [
    "data = xr.open_dataset('sst.mnmean.nc')"
   ]
  },
  {
   "cell_type": "code",
   "execution_count": null,
   "metadata": {},
   "outputs": [],
   "source": [
    "data  # file Dataset"
   ]
  },
  {
   "cell_type": "code",
   "execution_count": null,
   "metadata": {},
   "outputs": [],
   "source": [
    "data.data_vars"
   ]
  },
  {
   "cell_type": "code",
   "execution_count": null,
   "metadata": {},
   "outputs": [],
   "source": [
    "data.coords"
   ]
  },
  {
   "cell_type": "code",
   "execution_count": null,
   "metadata": {},
   "outputs": [],
   "source": [
    "data.sst  # sst DataArray http://xarray.pydata.org/en/stable/generated/xarray.DataArray.html"
   ]
  },
  {
   "cell_type": "code",
   "execution_count": null,
   "metadata": {},
   "outputs": [],
   "source": [
    "print(data.sst.shape)\n",
    "print(data.sst.ndim)\n",
    "print(data.sst.dims)"
   ]
  },
  {
   "cell_type": "code",
   "execution_count": null,
   "metadata": {},
   "outputs": [],
   "source": [
    "data.time.size"
   ]
  },
  {
   "cell_type": "markdown",
   "metadata": {},
   "source": [
    "data index selection: **[isel()](http://xarray.pydata.org/en/stable/generated/xarray.DataArray.isel.html)**  \n",
    "data value selection: **[sel()](http://xarray.pydata.org/en/stable/generated/xarray.DataArray.sel.html)**  \n",
    "the **[slice](https://docs.python.org/3.8/library/functions.html#slice)** object  \n",
    "the **[GroupBy](http://xarray.pydata.org/en/stable/generated/xarray.DataArray.groupby.html)** object  "
   ]
  },
  {
   "cell_type": "code",
   "execution_count": null,
   "metadata": {},
   "outputs": [],
   "source": [
    "data.sst.isel(lon=100, lat=50, time=0)     # select the point defined by its indexes (i=100, j=50, t=0)"
   ]
  },
  {
   "cell_type": "code",
   "execution_count": null,
   "metadata": {},
   "outputs": [],
   "source": [
    "data.sst.sel(lon=180.5, lat=0.5)   # time series for a point defined by its location (lon = 180.5, lat = 0.5)"
   ]
  },
  {
   "cell_type": "code",
   "execution_count": null,
   "metadata": {
    "scrolled": true
   },
   "outputs": [],
   "source": [
    "data.sst.sel(lon=180.5, lat=slice(0.5,-0.5))  # Warning : respect latitude order 0.5 before -0.5"
   ]
  },
  {
   "cell_type": "code",
   "execution_count": null,
   "metadata": {},
   "outputs": [],
   "source": [
    "print( data.sst.isel(time=200).shape )\n",
    "print( data.sst.sel(time='2000-01-01T00:00:00.000000000').shape )\n",
    "print( data.sst.sel(time='2000-01-01').shape )\n",
    "print( data.sst.sel(time='2000-01').shape )\n",
    "print( data.sst.sel(time='2000').shape )\n",
    "print( data.sst.sel(time=slice('2000','2002')).shape )"
   ]
  },
  {
   "cell_type": "code",
   "execution_count": null,
   "metadata": {},
   "outputs": [],
   "source": [
    "data.sst.isel(time=200).sel(lon=180.5, lat=slice(0.5,-0.5))"
   ]
  },
  {
   "cell_type": "code",
   "execution_count": null,
   "metadata": {},
   "outputs": [],
   "source": [
    "data.sst.groupby('time.month').mean(dim='time').shape"
   ]
  },
  {
   "cell_type": "code",
   "execution_count": null,
   "metadata": {},
   "outputs": [],
   "source": [
    "data = data.sel(time=slice('1982','2013'))   # keep only \"complete\" years"
   ]
  },
  {
   "cell_type": "markdown",
   "metadata": {},
   "source": [
    "# a few basic plots\n",
    "https://matplotlib.org/tutorials/colors/colormaps.html"
   ]
  },
  {
   "cell_type": "code",
   "execution_count": null,
   "metadata": {},
   "outputs": [],
   "source": [
    "fig, axes = plt.subplots(2,1)\n",
    "data.sst.isel(lon=100, lat=50).plot(ax=axes[0])\n",
    "data.sst.sel(lon=180.5, lat=0.5).plot(ax=axes[1])\n",
    "plt.show()"
   ]
  },
  {
   "cell_type": "code",
   "execution_count": null,
   "metadata": {},
   "outputs": [],
   "source": [
    "mask = xr.open_dataset('lsmask.nc')\n",
    "mask = mask.squeeze()  # get rid of the time dimension in the variable mask.mask\n",
    "mask"
   ]
  },
  {
   "cell_type": "code",
   "execution_count": null,
   "metadata": {},
   "outputs": [],
   "source": [
    "fig, axes = plt.subplots(2,1)\n",
    "sst2d = data.sst.isel(time=100)\n",
    "sst2d.plot(ax=axes[0])\n",
    "sst2d = sst2d.where(mask.mask == 1.)\n",
    "sst2d.plot(vmin=-2, vmax=32, cmap='gist_rainbow_r',ax=axes[1])\n",
    "plt.show()"
   ]
  },
  {
   "cell_type": "code",
   "execution_count": null,
   "metadata": {},
   "outputs": [],
   "source": [
    "p = data.sst.isel(time=200).where(mask.mask == 1.).plot(\n",
    "    subplot_kws=dict( projection=ccrs.PlateCarree(central_longitude=200), facecolor='gray'),\n",
    "    transform=ccrs.PlateCarree(),vmin=-2, vmax=32, cmap='gist_rainbow_r'\n",
    ")\n",
    "p.axes.set_global()\n",
    "p.axes.coastlines()  "
   ]
  },
  {
   "cell_type": "code",
   "execution_count": null,
   "metadata": {},
   "outputs": [],
   "source": [
    "\n",
    "#proj = ccrs.PlateCarree(central_longitude=200)\n",
    "proj = ccrs.LambertCylindrical(central_longitude=200)\n",
    "\n",
    "data.sst.isel(time=slice(1, 13)).where(mask.mask == 1.).hvplot.quadmesh(\n",
    "    'lon', 'lat', clim=(-2,32), projection=proj, project=True, global_extent=True, \n",
    "    cmap='gist_rainbow_r', rasterize=True, dynamic=False, coastline=True, \n",
    "    frame_width=500, widget_location='bottom', widget_type='scrubber')"
   ]
  },
  {
   "cell_type": "code",
   "execution_count": null,
   "metadata": {
    "scrolled": true
   },
   "outputs": [],
   "source": [
    "data.sst.sel(lat=slice(1.5,-1.5)).mean(dim='lat').plot()"
   ]
  },
  {
   "cell_type": "code",
   "execution_count": null,
   "metadata": {},
   "outputs": [],
   "source": [
    "data.sst.groupby('time.month').mean(dim='time').mean(dim=('lon','lat')).plot()"
   ]
  },
  {
   "cell_type": "markdown",
   "metadata": {},
   "source": [
    "# basic computation:"
   ]
  },
  {
   "cell_type": "markdown",
   "metadata": {},
   "source": [
    "Earth is not flat: 1Â°x1Â° grid does not have a constant area  \n",
    "weight data with mask * cos( lat )"
   ]
  },
  {
   "cell_type": "code",
   "execution_count": null,
   "metadata": {},
   "outputs": [],
   "source": [
    "weights = np.cos(np.deg2rad(mask.lat))\n",
    "weights = mask*weights\n",
    "weights"
   ]
  },
  {
   "cell_type": "code",
   "execution_count": null,
   "metadata": {},
   "outputs": [],
   "source": [
    "fig, axes = plt.subplots(2,1)\n",
    "mask.mask.plot(ax=axes[0])\n",
    "weights.mask.plot(ax=axes[1])"
   ]
  },
  {
   "cell_type": "code",
   "execution_count": null,
   "metadata": {},
   "outputs": [],
   "source": [
    "data.sst.mean((\"lon\", \"lat\")).plot(label=\"unweighted\")\n",
    "weights = np.cos(np.deg2rad(data.lat))\n",
    "data.sst.weighted(weights).mean((\"lon\", \"lat\")).plot(label=\"weighted\")\n",
    "weights = np.cos(np.deg2rad(mask.lat))\n",
    "weights = mask*weights\n",
    "data.sst.weighted(weights.mask).mean((\"lon\", \"lat\")).plot(label=\"weighted+mask\")\n",
    "plt.legend()"
   ]
  },
  {
   "cell_type": "code",
   "execution_count": null,
   "metadata": {},
   "outputs": [],
   "source": [
    "a = data.sst.groupby('time.month').mean(dim='time')\n",
    "#a.mean(dim=('lon','lat')).plot(label=\"unweighted\")\n",
    "fig, axes = plt.subplots(3,1,figsize=(10, 10))\n",
    "a.weighted(weights.mask).mean(dim=('lon','lat')).plot(label=\"gobal mean\", ax=axes[0])\n",
    "axes[0].set_title('gobal mean')\n",
    "a.sel(lon=150.5, lat=2.5).plot(ax=axes[1])\n",
    "axes[1].set_title('West Eq. Pac.')\n",
    "a.sel(lon=300.5, lat=45.5).plot(ax=axes[2])\n",
    "axes[2].set_title('North-West Atl.')"
   ]
  },
  {
   "cell_type": "code",
   "execution_count": null,
   "metadata": {},
   "outputs": [],
   "source": [
    "a = data.sst.weighted(weights.mask).mean((\"lon\", \"lat\"))\n",
    "a.plot(label=\"weighted+mask\")\n",
    "b = a.rolling(time=12, center=True).mean()\n",
    "b.plot(label=\"rolling 1 year\")\n",
    "b = a.rolling(time=12*5, center=True).mean()\n",
    "b.plot(label=\"rolling 5 years\")\n",
    "plt.legend()\n",
    "c = a.rolling(time=12*10, center=True).mean()\n",
    "c.plot(label=\"rolling 10 years\")\n",
    "plt.legend()"
   ]
  },
  {
   "cell_type": "code",
   "execution_count": null,
   "metadata": {},
   "outputs": [],
   "source": [
    "a = data.sst.groupby('time.year').mean(dim='time')   # yearly mean\n",
    "a.weighted(weights.mask).mean(dim=('lon','lat')).plot(label=\"weighted+mask\")\n",
    "#a.mean(dim=('lon','lat')).plot(label=\"unweighted\")\n",
    "plt.legend()"
   ]
  },
  {
   "cell_type": "code",
   "execution_count": null,
   "metadata": {},
   "outputs": [],
   "source": [
    "a = data.sst.weighted(weights.mask).mean(dim=('lon','lat'))\n",
    "clim = a.groupby(\"time.month\").mean(\"time\")\n",
    "anom = a.groupby(\"time.month\") - clim\n",
    "anom.plot()"
   ]
  },
  {
   "cell_type": "code",
   "execution_count": null,
   "metadata": {},
   "outputs": [],
   "source": [
    "a = data.sst.std(dim='time').where(mask.mask == 1.)\n",
    "fig, axes = plt.subplots(2,1)\n",
    "a.plot(vmin=0,vmax=6,ax=axes[0])\n",
    "a.sel(lon=slice(260.5,320.5),lat=slice(50.5,10.5)).plot(vmin=0,vmax=6,ax=axes[1])"
   ]
  },
  {
   "cell_type": "code",
   "execution_count": null,
   "metadata": {},
   "outputs": [],
   "source": [
    "a = data.sst.groupby('time.month').mean(dim='time')\n",
    "#(a.max(dim='month') - a.min(dim='month')).where(mask.mask == 1.).plot(vmin=0,vmax=12)\n",
    "a.std(dim='month').where(mask.mask == 1.).plot(vmin=0,vmax=6)"
   ]
  },
  {
   "cell_type": "code",
   "execution_count": null,
   "metadata": {},
   "outputs": [],
   "source": [
    "a = data.sst.groupby(\"time.month\")\n",
    "anom = a - a.mean(\"time\")\n",
    "anom.std(dim='time').where(mask.mask == 1.).plot(vmin=0,vmax=2,cmap='YlGnBu')"
   ]
  },
  {
   "cell_type": "code",
   "execution_count": null,
   "metadata": {},
   "outputs": [],
   "source": [
    "linfit = data.sst.polyfit('time', 1)\n",
    "trend = xr.polyval(coord=data.time, coeffs=linfit.polyfit_coefficients)\n",
    "\n",
    "linfit.polyfit_coefficients.isel(degree=1).where(mask.mask == 1.).plot()"
   ]
  },
  {
   "cell_type": "code",
   "execution_count": null,
   "metadata": {},
   "outputs": [],
   "source": [
    "a = data.sst.groupby('time.year').mean(dim='time')   # yearly mean\n",
    "a.weighted(weights.mask).mean(dim=('lon','lat')).plot(label=\"org\")\n",
    "a = trend.groupby('time.year').mean(dim='time')   # yearly mean\n",
    "a.weighted(weights.mask).mean(dim=('lon','lat')).plot(label=\"trend\")\n",
    "plt.legend()"
   ]
  },
  {
   "cell_type": "code",
   "execution_count": null,
   "metadata": {},
   "outputs": [],
   "source": [
    "sst_detrend = data.sst - trend.values\n",
    "data['sst'] = sst_detrend\n",
    "a = data.sst.groupby('time.year').mean(dim='time')   # yearly mean\n",
    "a.weighted(weights.mask).mean(dim=('lon','lat')).plot(label=\"org\")"
   ]
  },
  {
   "cell_type": "code",
   "execution_count": null,
   "metadata": {},
   "outputs": [],
   "source": [
    "data.time.dt.days_in_month"
   ]
  },
  {
   "cell_type": "code",
   "execution_count": null,
   "metadata": {},
   "outputs": [],
   "source": [
    "#data[\"time.season\"] same as\n",
    "data.time.dt.season"
   ]
  },
  {
   "cell_type": "code",
   "execution_count": null,
   "metadata": {},
   "outputs": [],
   "source": []
  },
  {
   "cell_type": "code",
   "execution_count": null,
   "metadata": {},
   "outputs": [],
   "source": []
  },
  {
   "cell_type": "code",
   "execution_count": null,
   "metadata": {},
   "outputs": [],
   "source": []
  },
  {
   "cell_type": "code",
   "execution_count": null,
   "metadata": {},
   "outputs": [],
   "source": []
  },
  {
   "cell_type": "code",
   "execution_count": null,
   "metadata": {},
   "outputs": [],
   "source": []
  },
  {
   "cell_type": "code",
   "execution_count": null,
   "metadata": {},
   "outputs": [],
   "source": []
  },
  {
   "cell_type": "code",
   "execution_count": null,
   "metadata": {},
   "outputs": [],
   "source": []
  },
  {
   "cell_type": "code",
   "execution_count": null,
   "metadata": {},
   "outputs": [],
   "source": []
  },
  {
   "cell_type": "code",
   "execution_count": null,
   "metadata": {},
   "outputs": [],
   "source": []
  },
  {
   "cell_type": "code",
   "execution_count": null,
   "metadata": {},
   "outputs": [],
   "source": []
  },
  {
   "cell_type": "code",
   "execution_count": null,
   "metadata": {},
   "outputs": [],
   "source": []
  },
  {
   "cell_type": "code",
   "execution_count": null,
   "metadata": {},
   "outputs": [],
   "source": []
  },
  {
   "cell_type": "code",
   "execution_count": null,
   "metadata": {},
   "outputs": [],
   "source": []
  },
  {
   "cell_type": "code",
   "execution_count": null,
   "metadata": {},
   "outputs": [],
   "source": []
  },
  {
   "cell_type": "code",
   "execution_count": null,
   "metadata": {},
   "outputs": [],
   "source": [
    "fig = plt.figure()\n",
    "ax = fig.add_subplot(111, projection='3d')\n",
    "lon = (mask.lon * mask.mask).transpose()\n",
    "lat = (mask.lat * mask.mask)\n",
    "sst = data.sst.isel(time=200)\n",
    "ax.scatter(lon, lat, sst)\n",
    "plt.show()\n"
   ]
  },
  {
   "cell_type": "code",
   "execution_count": null,
   "metadata": {},
   "outputs": [],
   "source": []
  },
  {
   "cell_type": "code",
   "execution_count": null,
   "metadata": {},
   "outputs": [],
   "source": [
    "(mask.lat * mask.mask)"
   ]
  },
  {
   "cell_type": "code",
   "execution_count": null,
   "metadata": {},
   "outputs": [],
   "source": []
  },
  {
   "cell_type": "code",
   "execution_count": null,
   "metadata": {},
   "outputs": [],
   "source": []
  },
  {
   "cell_type": "code",
   "execution_count": null,
   "metadata": {},
   "outputs": [],
   "source": []
  },
  {
   "cell_type": "code",
   "execution_count": null,
   "metadata": {},
   "outputs": [],
   "source": []
  }
 ],
 "metadata": {
  "kernelspec": {
   "display_name": "Python 3",
   "language": "python",
   "name": "python3"
  },
  "language_info": {
   "codemirror_mode": {
    "name": "ipython",
    "version": 3
   },
   "file_extension": ".py",
   "mimetype": "text/x-python",
   "name": "python",
   "nbconvert_exporter": "python",
   "pygments_lexer": "ipython3",
   "version": "3.8.6"
  }
 },
 "nbformat": 4,
 "nbformat_minor": 4
}
